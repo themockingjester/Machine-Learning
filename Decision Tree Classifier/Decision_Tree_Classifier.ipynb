{
  "nbformat": 4,
  "nbformat_minor": 0,
  "metadata": {
    "colab": {
      "name": "Decision Tree Classifier.ipynb",
      "provenance": []
    },
    "kernelspec": {
      "name": "python3",
      "display_name": "Python 3"
    },
    "language_info": {
      "name": "python"
    }
  },
  "cells": [
    {
      "cell_type": "markdown",
      "metadata": {
        "id": "jaPyI9A4XYyI"
      },
      "source": [
        "![image.png](data:image/png;base64,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)"
      ]
    },
    {
      "cell_type": "code",
      "metadata": {
        "colab": {
          "base_uri": "https://localhost:8080/",
          "height": 224
        },
        "id": "6n9a9ezGWehI",
        "outputId": "992fce57-1eb9-40c5-b1da-7621849f26d8"
      },
      "source": [
        "import pandas as pd\n",
        "print('salaries.csv')\n",
        "df = pd.read_csv(\"salaries.csv\")\n",
        "df.head()"
      ],
      "execution_count": 2,
      "outputs": [
        {
          "output_type": "stream",
          "text": [
            "salaries.csv\n"
          ],
          "name": "stdout"
        },
        {
          "output_type": "execute_result",
          "data": {
            "text/html": [
              "<div>\n",
              "<style scoped>\n",
              "    .dataframe tbody tr th:only-of-type {\n",
              "        vertical-align: middle;\n",
              "    }\n",
              "\n",
              "    .dataframe tbody tr th {\n",
              "        vertical-align: top;\n",
              "    }\n",
              "\n",
              "    .dataframe thead th {\n",
              "        text-align: right;\n",
              "    }\n",
              "</style>\n",
              "<table border=\"1\" class=\"dataframe\">\n",
              "  <thead>\n",
              "    <tr style=\"text-align: right;\">\n",
              "      <th></th>\n",
              "      <th>company</th>\n",
              "      <th>job</th>\n",
              "      <th>degree</th>\n",
              "      <th>salary_more_then_100k</th>\n",
              "    </tr>\n",
              "  </thead>\n",
              "  <tbody>\n",
              "    <tr>\n",
              "      <th>0</th>\n",
              "      <td>google</td>\n",
              "      <td>sales executive</td>\n",
              "      <td>bachelors</td>\n",
              "      <td>0</td>\n",
              "    </tr>\n",
              "    <tr>\n",
              "      <th>1</th>\n",
              "      <td>google</td>\n",
              "      <td>sales executive</td>\n",
              "      <td>masters</td>\n",
              "      <td>0</td>\n",
              "    </tr>\n",
              "    <tr>\n",
              "      <th>2</th>\n",
              "      <td>google</td>\n",
              "      <td>business manager</td>\n",
              "      <td>bachelors</td>\n",
              "      <td>1</td>\n",
              "    </tr>\n",
              "    <tr>\n",
              "      <th>3</th>\n",
              "      <td>google</td>\n",
              "      <td>business manager</td>\n",
              "      <td>masters</td>\n",
              "      <td>1</td>\n",
              "    </tr>\n",
              "    <tr>\n",
              "      <th>4</th>\n",
              "      <td>google</td>\n",
              "      <td>computer programmer</td>\n",
              "      <td>bachelors</td>\n",
              "      <td>0</td>\n",
              "    </tr>\n",
              "  </tbody>\n",
              "</table>\n",
              "</div>"
            ],
            "text/plain": [
              "  company                  job     degree  salary_more_then_100k\n",
              "0  google      sales executive  bachelors                      0\n",
              "1  google      sales executive    masters                      0\n",
              "2  google     business manager  bachelors                      1\n",
              "3  google     business manager    masters                      1\n",
              "4  google  computer programmer  bachelors                      0"
            ]
          },
          "metadata": {
            "tags": []
          },
          "execution_count": 2
        }
      ]
    },
    {
      "cell_type": "code",
      "metadata": {
        "id": "4Wszo4sNWgWg"
      },
      "source": [
        "inputs = df.drop('salary_more_then_100k',axis='columns')"
      ],
      "execution_count": 3,
      "outputs": []
    },
    {
      "cell_type": "code",
      "metadata": {
        "id": "smh-OqjSWgUq"
      },
      "source": [
        "target = df['salary_more_then_100k']"
      ],
      "execution_count": 4,
      "outputs": []
    },
    {
      "cell_type": "code",
      "metadata": {
        "id": "eJKURZ-jWgSL"
      },
      "source": [
        "from sklearn.preprocessing import LabelEncoder\n",
        "le_company = LabelEncoder()\n",
        "le_job = LabelEncoder()\n",
        "le_degree = LabelEncoder()"
      ],
      "execution_count": 5,
      "outputs": []
    },
    {
      "cell_type": "code",
      "metadata": {
        "id": "9tQw9ELAWgPv"
      },
      "source": [
        "inputs['company_n'] = le_company.fit_transform(inputs['company'])\n",
        "inputs['job_n'] = le_job.fit_transform(inputs['job'])\n",
        "inputs['degree_n'] = le_degree.fit_transform(inputs['degree'])"
      ],
      "execution_count": 6,
      "outputs": []
    },
    {
      "cell_type": "code",
      "metadata": {
        "colab": {
          "base_uri": "https://localhost:8080/",
          "height": 551
        },
        "id": "CtKCK5TnWgNP",
        "outputId": "92131423-4d00-4681-d30a-ddd9ca8bd724"
      },
      "source": [
        "inputs"
      ],
      "execution_count": 7,
      "outputs": [
        {
          "output_type": "execute_result",
          "data": {
            "text/html": [
              "<div>\n",
              "<style scoped>\n",
              "    .dataframe tbody tr th:only-of-type {\n",
              "        vertical-align: middle;\n",
              "    }\n",
              "\n",
              "    .dataframe tbody tr th {\n",
              "        vertical-align: top;\n",
              "    }\n",
              "\n",
              "    .dataframe thead th {\n",
              "        text-align: right;\n",
              "    }\n",
              "</style>\n",
              "<table border=\"1\" class=\"dataframe\">\n",
              "  <thead>\n",
              "    <tr style=\"text-align: right;\">\n",
              "      <th></th>\n",
              "      <th>company</th>\n",
              "      <th>job</th>\n",
              "      <th>degree</th>\n",
              "      <th>company_n</th>\n",
              "      <th>job_n</th>\n",
              "      <th>degree_n</th>\n",
              "    </tr>\n",
              "  </thead>\n",
              "  <tbody>\n",
              "    <tr>\n",
              "      <th>0</th>\n",
              "      <td>google</td>\n",
              "      <td>sales executive</td>\n",
              "      <td>bachelors</td>\n",
              "      <td>2</td>\n",
              "      <td>2</td>\n",
              "      <td>0</td>\n",
              "    </tr>\n",
              "    <tr>\n",
              "      <th>1</th>\n",
              "      <td>google</td>\n",
              "      <td>sales executive</td>\n",
              "      <td>masters</td>\n",
              "      <td>2</td>\n",
              "      <td>2</td>\n",
              "      <td>1</td>\n",
              "    </tr>\n",
              "    <tr>\n",
              "      <th>2</th>\n",
              "      <td>google</td>\n",
              "      <td>business manager</td>\n",
              "      <td>bachelors</td>\n",
              "      <td>2</td>\n",
              "      <td>0</td>\n",
              "      <td>0</td>\n",
              "    </tr>\n",
              "    <tr>\n",
              "      <th>3</th>\n",
              "      <td>google</td>\n",
              "      <td>business manager</td>\n",
              "      <td>masters</td>\n",
              "      <td>2</td>\n",
              "      <td>0</td>\n",
              "      <td>1</td>\n",
              "    </tr>\n",
              "    <tr>\n",
              "      <th>4</th>\n",
              "      <td>google</td>\n",
              "      <td>computer programmer</td>\n",
              "      <td>bachelors</td>\n",
              "      <td>2</td>\n",
              "      <td>1</td>\n",
              "      <td>0</td>\n",
              "    </tr>\n",
              "    <tr>\n",
              "      <th>5</th>\n",
              "      <td>google</td>\n",
              "      <td>computer programmer</td>\n",
              "      <td>masters</td>\n",
              "      <td>2</td>\n",
              "      <td>1</td>\n",
              "      <td>1</td>\n",
              "    </tr>\n",
              "    <tr>\n",
              "      <th>6</th>\n",
              "      <td>abc pharma</td>\n",
              "      <td>sales executive</td>\n",
              "      <td>masters</td>\n",
              "      <td>0</td>\n",
              "      <td>2</td>\n",
              "      <td>1</td>\n",
              "    </tr>\n",
              "    <tr>\n",
              "      <th>7</th>\n",
              "      <td>abc pharma</td>\n",
              "      <td>computer programmer</td>\n",
              "      <td>bachelors</td>\n",
              "      <td>0</td>\n",
              "      <td>1</td>\n",
              "      <td>0</td>\n",
              "    </tr>\n",
              "    <tr>\n",
              "      <th>8</th>\n",
              "      <td>abc pharma</td>\n",
              "      <td>business manager</td>\n",
              "      <td>bachelors</td>\n",
              "      <td>0</td>\n",
              "      <td>0</td>\n",
              "      <td>0</td>\n",
              "    </tr>\n",
              "    <tr>\n",
              "      <th>9</th>\n",
              "      <td>abc pharma</td>\n",
              "      <td>business manager</td>\n",
              "      <td>masters</td>\n",
              "      <td>0</td>\n",
              "      <td>0</td>\n",
              "      <td>1</td>\n",
              "    </tr>\n",
              "    <tr>\n",
              "      <th>10</th>\n",
              "      <td>facebook</td>\n",
              "      <td>sales executive</td>\n",
              "      <td>bachelors</td>\n",
              "      <td>1</td>\n",
              "      <td>2</td>\n",
              "      <td>0</td>\n",
              "    </tr>\n",
              "    <tr>\n",
              "      <th>11</th>\n",
              "      <td>facebook</td>\n",
              "      <td>sales executive</td>\n",
              "      <td>masters</td>\n",
              "      <td>1</td>\n",
              "      <td>2</td>\n",
              "      <td>1</td>\n",
              "    </tr>\n",
              "    <tr>\n",
              "      <th>12</th>\n",
              "      <td>facebook</td>\n",
              "      <td>business manager</td>\n",
              "      <td>bachelors</td>\n",
              "      <td>1</td>\n",
              "      <td>0</td>\n",
              "      <td>0</td>\n",
              "    </tr>\n",
              "    <tr>\n",
              "      <th>13</th>\n",
              "      <td>facebook</td>\n",
              "      <td>business manager</td>\n",
              "      <td>masters</td>\n",
              "      <td>1</td>\n",
              "      <td>0</td>\n",
              "      <td>1</td>\n",
              "    </tr>\n",
              "    <tr>\n",
              "      <th>14</th>\n",
              "      <td>facebook</td>\n",
              "      <td>computer programmer</td>\n",
              "      <td>bachelors</td>\n",
              "      <td>1</td>\n",
              "      <td>1</td>\n",
              "      <td>0</td>\n",
              "    </tr>\n",
              "    <tr>\n",
              "      <th>15</th>\n",
              "      <td>facebook</td>\n",
              "      <td>computer programmer</td>\n",
              "      <td>masters</td>\n",
              "      <td>1</td>\n",
              "      <td>1</td>\n",
              "      <td>1</td>\n",
              "    </tr>\n",
              "  </tbody>\n",
              "</table>\n",
              "</div>"
            ],
            "text/plain": [
              "       company                  job     degree  company_n  job_n  degree_n\n",
              "0       google      sales executive  bachelors          2      2         0\n",
              "1       google      sales executive    masters          2      2         1\n",
              "2       google     business manager  bachelors          2      0         0\n",
              "3       google     business manager    masters          2      0         1\n",
              "4       google  computer programmer  bachelors          2      1         0\n",
              "5       google  computer programmer    masters          2      1         1\n",
              "6   abc pharma      sales executive    masters          0      2         1\n",
              "7   abc pharma  computer programmer  bachelors          0      1         0\n",
              "8   abc pharma     business manager  bachelors          0      0         0\n",
              "9   abc pharma     business manager    masters          0      0         1\n",
              "10    facebook      sales executive  bachelors          1      2         0\n",
              "11    facebook      sales executive    masters          1      2         1\n",
              "12    facebook     business manager  bachelors          1      0         0\n",
              "13    facebook     business manager    masters          1      0         1\n",
              "14    facebook  computer programmer  bachelors          1      1         0\n",
              "15    facebook  computer programmer    masters          1      1         1"
            ]
          },
          "metadata": {
            "tags": []
          },
          "execution_count": 7
        }
      ]
    },
    {
      "cell_type": "code",
      "metadata": {
        "id": "Sp1Rm4AGWgLG"
      },
      "source": [
        "inputs_n = inputs.drop(['company','job','degree'],axis='columns')"
      ],
      "execution_count": 8,
      "outputs": []
    },
    {
      "cell_type": "code",
      "metadata": {
        "colab": {
          "base_uri": "https://localhost:8080/",
          "height": 551
        },
        "id": "Mji-pRUUWgIj",
        "outputId": "57e5b0a6-bace-47a0-e4b9-affaee03ac14"
      },
      "source": [
        "inputs_n"
      ],
      "execution_count": 9,
      "outputs": [
        {
          "output_type": "execute_result",
          "data": {
            "text/html": [
              "<div>\n",
              "<style scoped>\n",
              "    .dataframe tbody tr th:only-of-type {\n",
              "        vertical-align: middle;\n",
              "    }\n",
              "\n",
              "    .dataframe tbody tr th {\n",
              "        vertical-align: top;\n",
              "    }\n",
              "\n",
              "    .dataframe thead th {\n",
              "        text-align: right;\n",
              "    }\n",
              "</style>\n",
              "<table border=\"1\" class=\"dataframe\">\n",
              "  <thead>\n",
              "    <tr style=\"text-align: right;\">\n",
              "      <th></th>\n",
              "      <th>company_n</th>\n",
              "      <th>job_n</th>\n",
              "      <th>degree_n</th>\n",
              "    </tr>\n",
              "  </thead>\n",
              "  <tbody>\n",
              "    <tr>\n",
              "      <th>0</th>\n",
              "      <td>2</td>\n",
              "      <td>2</td>\n",
              "      <td>0</td>\n",
              "    </tr>\n",
              "    <tr>\n",
              "      <th>1</th>\n",
              "      <td>2</td>\n",
              "      <td>2</td>\n",
              "      <td>1</td>\n",
              "    </tr>\n",
              "    <tr>\n",
              "      <th>2</th>\n",
              "      <td>2</td>\n",
              "      <td>0</td>\n",
              "      <td>0</td>\n",
              "    </tr>\n",
              "    <tr>\n",
              "      <th>3</th>\n",
              "      <td>2</td>\n",
              "      <td>0</td>\n",
              "      <td>1</td>\n",
              "    </tr>\n",
              "    <tr>\n",
              "      <th>4</th>\n",
              "      <td>2</td>\n",
              "      <td>1</td>\n",
              "      <td>0</td>\n",
              "    </tr>\n",
              "    <tr>\n",
              "      <th>5</th>\n",
              "      <td>2</td>\n",
              "      <td>1</td>\n",
              "      <td>1</td>\n",
              "    </tr>\n",
              "    <tr>\n",
              "      <th>6</th>\n",
              "      <td>0</td>\n",
              "      <td>2</td>\n",
              "      <td>1</td>\n",
              "    </tr>\n",
              "    <tr>\n",
              "      <th>7</th>\n",
              "      <td>0</td>\n",
              "      <td>1</td>\n",
              "      <td>0</td>\n",
              "    </tr>\n",
              "    <tr>\n",
              "      <th>8</th>\n",
              "      <td>0</td>\n",
              "      <td>0</td>\n",
              "      <td>0</td>\n",
              "    </tr>\n",
              "    <tr>\n",
              "      <th>9</th>\n",
              "      <td>0</td>\n",
              "      <td>0</td>\n",
              "      <td>1</td>\n",
              "    </tr>\n",
              "    <tr>\n",
              "      <th>10</th>\n",
              "      <td>1</td>\n",
              "      <td>2</td>\n",
              "      <td>0</td>\n",
              "    </tr>\n",
              "    <tr>\n",
              "      <th>11</th>\n",
              "      <td>1</td>\n",
              "      <td>2</td>\n",
              "      <td>1</td>\n",
              "    </tr>\n",
              "    <tr>\n",
              "      <th>12</th>\n",
              "      <td>1</td>\n",
              "      <td>0</td>\n",
              "      <td>0</td>\n",
              "    </tr>\n",
              "    <tr>\n",
              "      <th>13</th>\n",
              "      <td>1</td>\n",
              "      <td>0</td>\n",
              "      <td>1</td>\n",
              "    </tr>\n",
              "    <tr>\n",
              "      <th>14</th>\n",
              "      <td>1</td>\n",
              "      <td>1</td>\n",
              "      <td>0</td>\n",
              "    </tr>\n",
              "    <tr>\n",
              "      <th>15</th>\n",
              "      <td>1</td>\n",
              "      <td>1</td>\n",
              "      <td>1</td>\n",
              "    </tr>\n",
              "  </tbody>\n",
              "</table>\n",
              "</div>"
            ],
            "text/plain": [
              "    company_n  job_n  degree_n\n",
              "0           2      2         0\n",
              "1           2      2         1\n",
              "2           2      0         0\n",
              "3           2      0         1\n",
              "4           2      1         0\n",
              "5           2      1         1\n",
              "6           0      2         1\n",
              "7           0      1         0\n",
              "8           0      0         0\n",
              "9           0      0         1\n",
              "10          1      2         0\n",
              "11          1      2         1\n",
              "12          1      0         0\n",
              "13          1      0         1\n",
              "14          1      1         0\n",
              "15          1      1         1"
            ]
          },
          "metadata": {
            "tags": []
          },
          "execution_count": 9
        }
      ]
    },
    {
      "cell_type": "code",
      "metadata": {
        "colab": {
          "base_uri": "https://localhost:8080/"
        },
        "id": "fxjaigofWgFq",
        "outputId": "e44d51b4-8610-4f2f-8c1c-e178a0b2fcc8"
      },
      "source": [
        "target"
      ],
      "execution_count": 10,
      "outputs": [
        {
          "output_type": "execute_result",
          "data": {
            "text/plain": [
              "0     0\n",
              "1     0\n",
              "2     1\n",
              "3     1\n",
              "4     0\n",
              "5     1\n",
              "6     0\n",
              "7     0\n",
              "8     0\n",
              "9     1\n",
              "10    1\n",
              "11    1\n",
              "12    1\n",
              "13    1\n",
              "14    1\n",
              "15    1\n",
              "Name: salary_more_then_100k, dtype: int64"
            ]
          },
          "metadata": {
            "tags": []
          },
          "execution_count": 10
        }
      ]
    },
    {
      "cell_type": "code",
      "metadata": {
        "id": "JDlx1R5NW1Ng"
      },
      "source": [
        "from sklearn import tree\n",
        "model = tree.DecisionTreeClassifier()"
      ],
      "execution_count": 12,
      "outputs": []
    },
    {
      "cell_type": "code",
      "metadata": {
        "colab": {
          "base_uri": "https://localhost:8080/"
        },
        "id": "xJ8xris3W1Li",
        "outputId": "ba0d50f2-c317-45e8-c32d-3a648b9ac06a"
      },
      "source": [
        "model.fit(inputs_n, target)"
      ],
      "execution_count": 13,
      "outputs": [
        {
          "output_type": "execute_result",
          "data": {
            "text/plain": [
              "DecisionTreeClassifier(ccp_alpha=0.0, class_weight=None, criterion='gini',\n",
              "                       max_depth=None, max_features=None, max_leaf_nodes=None,\n",
              "                       min_impurity_decrease=0.0, min_impurity_split=None,\n",
              "                       min_samples_leaf=1, min_samples_split=2,\n",
              "                       min_weight_fraction_leaf=0.0, presort='deprecated',\n",
              "                       random_state=None, splitter='best')"
            ]
          },
          "metadata": {
            "tags": []
          },
          "execution_count": 13
        }
      ]
    },
    {
      "cell_type": "code",
      "metadata": {
        "colab": {
          "base_uri": "https://localhost:8080/"
        },
        "id": "_Q7fXsGzW1J0",
        "outputId": "fd806873-e602-4153-d2de-8b20c9a1bf5c"
      },
      "source": [
        "model.score(inputs_n,target)"
      ],
      "execution_count": 14,
      "outputs": [
        {
          "output_type": "execute_result",
          "data": {
            "text/plain": [
              "1.0"
            ]
          },
          "metadata": {
            "tags": []
          },
          "execution_count": 14
        }
      ]
    },
    {
      "cell_type": "markdown",
      "metadata": {
        "id": "VE0tgvbSW_0Q"
      },
      "source": [
        "Is salary of Google, Computer Engineer, Bachelors degree > 100 k ?"
      ]
    },
    {
      "cell_type": "code",
      "metadata": {
        "colab": {
          "base_uri": "https://localhost:8080/"
        },
        "id": "Yowzj7I1W1Hn",
        "outputId": "7e0a409c-8e60-4480-cdd0-3810cd1e6f06"
      },
      "source": [
        "model.predict([[2,1,0]])"
      ],
      "execution_count": 15,
      "outputs": [
        {
          "output_type": "execute_result",
          "data": {
            "text/plain": [
              "array([0])"
            ]
          },
          "metadata": {
            "tags": []
          },
          "execution_count": 15
        }
      ]
    },
    {
      "cell_type": "markdown",
      "metadata": {
        "id": "pQMjMheQXEbr"
      },
      "source": [
        "Is salary of Google, Computer Engineer, Masters degree > 100 k ?"
      ]
    },
    {
      "cell_type": "code",
      "metadata": {
        "colab": {
          "base_uri": "https://localhost:8080/"
        },
        "id": "WCHQhyoOW1Fh",
        "outputId": "6522d782-5df2-495a-a01b-4e73844f8341"
      },
      "source": [
        "model.predict([[2,1,1]])"
      ],
      "execution_count": 16,
      "outputs": [
        {
          "output_type": "execute_result",
          "data": {
            "text/plain": [
              "array([1])"
            ]
          },
          "metadata": {
            "tags": []
          },
          "execution_count": 16
        }
      ]
    }
  ]
}