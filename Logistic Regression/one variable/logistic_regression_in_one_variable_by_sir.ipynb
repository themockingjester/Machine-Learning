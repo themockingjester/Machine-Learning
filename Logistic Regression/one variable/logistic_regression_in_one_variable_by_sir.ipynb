{
  "nbformat": 4,
  "nbformat_minor": 0,
  "metadata": {
    "colab": {
      "name": "logistic regression in variable by sir.ipynb",
      "provenance": []
    },
    "kernelspec": {
      "name": "python3",
      "display_name": "Python 3"
    },
    "language_info": {
      "name": "python"
    }
  },
  "cells": [
    {
      "cell_type": "code",
      "metadata": {
        "id": "7YKbtEnPtabb"
      },
      "source": [
        "import pandas as pd\n",
        "from matplotlib import pyplot as plt\n",
        "%matplotlib inline"
      ],
      "execution_count": 1,
      "outputs": []
    },
    {
      "cell_type": "markdown",
      "metadata": {
        "id": "fRoiXySEvoem"
      },
      "source": [
        "![image.png](data:image/png;base64,iVBORw0KGgoAAAANSUhEUgAAAQMAAADUCAYAAACYnUboAAAABHNCSVQICAgIfAhkiAAAIABJREFUeF7tXQv4TVX6/hBRSJJcapLkTkkzUcpldJkQUs2YmqfU5FaZLmLKXIpxGRVyy2UqoRKhXBKGUi5TpnJnZIgUQonQKJ3/fr//rD3nfs7+/X57//be5/2e5zzn7L3XXutb79r729/61j7fWyRiiVCIABHIeQSK5jwCBIAIEAFFgMaAFwIRIAI0BrwGiAAR+B8CaT2DZcuWSe3atYmXCwg0bdpUXnvtNRdqZpVEIG8IpDUG55xzjnTs2DFvNfMsVxC44YYbZOLEia7UzUpzG4G0xgBeweDBg3MbIfaeCOQIAkmNwT/+8Q+pXr26fpJNE/71r3/psVdeeUV+/vOfS4MGDeT++++X7777zobt66+/lvvuu08uvfRSqVevntx4443ywQcf2McnT56s50bLddddJ88//3zMPngmw4cPlyeeeEIuueQSrWvYsGFaZufOndK1a1f52c9+JrVq1ZLrr79e3nzzTfv8bPRE4R07dmg9DRs2lIsvvljuvvtu2bNnj13Pp59+qvvQ9uWXXy5//vOf5fjx4zF6ZtoYNWqUNG7cWOsfPXp0QvG//e1v8otf/ELq1q0rjRo1kocfflgOHTpkl2vRooVivmXLFjXQZnwWLVpkl8lUR0KjKXa88MIL0qpVK8W0ZcuWMnXqVLskVqKfeuopwTQH10b0cRy74oor9LqIFvQXY0PxNwJJjUGTJk1k+/btgosinSxdulTmzJkjixcv1ht95syZdvGnn35adu/eLS+//LIsXLhQunfvLj/++GO66lIeQx1nnnmmoL0lS5boTQXBzVK/fn11m//+97/Lb37zG+nVq5d88sknMXWl0/PYsWNy++23y/fffy9TpkzRefxll10mX375pdbxn//8R+utWrWqzJ07V9tat26dDBw4MKW+8QfQ/zFjxsif/vQnmTFjhnz88ceyf//+mGKHDx+WBx54QI0ZDCUM0B//+Ee7zDvvvKNjghvw0Ucf1d/4XHvttXaZTHXE65Vse9KkSYKx69atm47bgAEDZN++fXbR+fPnK04w0NBp0KBBctppp+nxIkWKCKYx0QYZ+xcsWCBt27ZN1hz3+QkBvHSUSqzBjlhPh4TD1tMpcsEFF0Q++ugj+9hDDz0U6dOnj719xx13RKyLNuFcs+PFF1+MWE+fmOPWhR157rnnYvZ16NAhcsstt6SsJ/4A6rCMmO7ORk/oYT2JI0ePHo2vSrdfeukl1dMyZPbxVatWRaybMmZf0pP/u7NLly6R3/3ud3aRzz77TPGzDEPK06ybLmJ5EQnHLe8hMmHChIT9yXakqiNZWbMPWDz77LMpi+CY5dFFTp48mbSMZegiF154YeTgwYN63DJq2lfLcCUtz53+QeCU/BimKlWq2KeXLl1a9u7da2//6le/0ifd5s2b5ac//ak0b95crrzyyjw1B7c5mcBVHzp0qHomeHpZF6gWs27smOLp9ITbjWmOebrFt4PjmEZYF3j8ITlw4ICcffbZCfvjd2A606lTJ3v3ueeeK6effnpMseXLl8szzzwjW7dulSNHjuixU05xNjz5rQPeELwtTIVSCaYymMphGoEpAcYWT/3ixYvrKZjKVa5cWTB9wTUALwFTH8sgpKqS+32CQNJpQra6FS0ae7pl4+xTMUd899135bbbblMjYXkKYj3101adahpRpkyZpOfBEOAGGD9+vGzatMl2o6P1wInp9ExacdzOq6++2nbLjXuO72wMganK3CxmO/pGBz733HOPGkws56LucePGOZpWFUQd2WBx/vnn6/Tgsccek1NPPVUef/xx6dmzZ8ypbdq0sacKMAacImSDbOGXyZcxyKR+xYoV5eabb5aRI0fqvBxPcCNly5YVzNeN4Klu5umZ6jXHrWmK3HTTTRrYw82GAKblgmd7upbDHHzDhg0xukRXgCAajjsNGEbXUa1aNdm1a5e9C0/fb775xt6GIYMBu/fee6VcuXK6Hx5CMsENiPhGvDipw3LhNZ4Tb3wxXmj//fffj68+ZhteFGIVCKT+9a9/1ViO8cpQEDe/NZWStWvXysaNGwXGgeJ/BFwzBggw4SL5/PPP9WbCCgXcRSOI3MO1x4WHGwGBq3j3PhN8iKivXr1ab44ffvhBhgwZ4vimhbHCDYbVEAQG//3vf6sbjN8QuPelSpXSGxUXN57as2fPlt///veZ1LOPd+7cWRB4w3QDN2D8agJcaPThww8/1HMwNUGQLpngyfzee+/pFAXBTXNDO6kDT3N4O99++21CEwjAItiJQCemNxgfTF+MIEiMICv6giAn+gWDWaxYMbsMgrrnnXeeWDEkXT3Bb4r/EUhqDLCchxvNCnzJiRMn7GUsK3iUdY/gmiPijuXDu+66S5cYe/fubZ+P+rF8Bhfzqquu0nlysnl5ugZxQ8KQIBaBOSy8Dcz/nQieclaQUKcS8F7Qd0w9zBSgZMmSemPCrceqQrt27dRYRBu2TO21bt1aMbACoboUB+ODp7AR3MjA6sEHH9R5OFYRfvvb3yatFjcrxgSY1alTR1dRIE7qSFrxf3diOgc9MNZ4+vft21fKly9vn4JYB/AADu3bt1eDAuMRL/AGsKqD1QVKMBAoglhmMFSllkSACLiJQFLPwM0GWTcRIAL+RIDGwJ/jQq2IgOcIOFvI9lw9/zfYv3//tEpiXR5r8RQi4HcEGDPw+whRPyLgEQKcJngENJshAn5HgMbA7yNE/YiARwjQGHgENJshAn5HgMbA7yNE/YiARwjQGHgENJshAn5HgMbA7yNE/YiARwjQGHgENJshAn5HgMbA7yNE/YiARwjQGHgEdFCbwd+2X331Vf1bNSXcCNAYOBhfJELBX6+RO6Gw5KuvvlId8JdwL+Stt97SBKxvv/22F82xjUJEgMagEMF3s2kkPoHRSJbq3s12WXdwEeAflYI7dp5ojuQm+FDCj4DvPAOQjSDDDvIaIpMPMg+tXLnSHglk+XnkkUc00xCyKCGFGJ6AyMRrBJmKrBTr+lRs1qyZZg4yGYcLYkjhOoO4BVmbo1OCoW7k/jNtI8swcgRGTytwHvQ1vAnQG9tICwfJpn+mD1bKdE0rhhRm0RjVqFFDsTP1oX58kLMwWzG4mnPjs1wh0SmO3XnnnZrMFe0hRdwXX3xhN4E8j8hmhX9tYiygJzgZjCDVHOoAHwVkxIgRuo1vIxhL7ANOII8B5kizhhR3EBDlgOAGuNasWVO/wU8BzwgSPa0C+QsyYcXjhXJIn/fLX/5S9cQUDKQ60X1x+5pSZQtZfGcMQMqCNFtIEQYWpvXr10uPHj3shKW4AZCHDwlQkZos+sIBltu2bdN0bfhG6i2kJUdaM1x4BSX9+vWTn/zkJwLSEhgD5CSEIGcgbg7kTzR/W0bmZlyE2Uqm/pl6kG4M/QK5C5KbRhOuID3br3/9ay2KdG7YxiddCvR4/ZCjEufAKKcT9L1ChQpaDuQw0SnQ/vKXv2i+SNSFNG7IjYibLi+C/JAYd6S3A/OWyd+IxLHAG+nigD2uHTBAxfNRwjCtWbNGkIIuHi8kq0VfoRuS1+JBA+Nskth6cU3lBZMCP8c/FA7/r4mVIVkJOvBtJd2MWE8EJeGwEnNqAetJr9uWpdZty4XVbcuq6zbIXLBtXYS6DQERC/ZZF469Ly8/QCiDel5//XU93UrVrttoE/KHP/xBt62nn25byWAjF110UcR6YtkkLZaR0DLoHwR6YxvELJBM/QM5Ccrjg/qtDNMRyxPQbSs7tNYBwW/sS0aCYxfK4of1BNZ6xo4dG1MaBC3Yb2VC1v0Wo5ZuW56cXQ6/sc/K02jvg75GLPo9PW49AHSXlURXt/FtxDI2dj8sY2vvt578+tui8YvgN0hwrJs3YnltWt5KQqvHDV6WdxGxjHfE8tIUE5QxeFlp33U7mgQI9Vrem9bh5jWlDfhEfOUZIN023FPDaYingEnbDe5GZBCG61aiRAmbkAUJRqPFpBi3BlDdS3ywPAZBZuOCENMmeA4geNJATNvgRYSAvAUuLfRGNuFMkk3/TB3gkkD9yNxseCWcZpfOpE82x+F5QZCMFhKtg0mGimkEErhiVSKaqi2b+k0ZTEPgjRnBNQAB5piWwevAeMCLhETzVGIb+gEnZHE2hDlGV0w1INFEN0gZD48H4sU1pQ0VsvgqgDht2jTNvHvGGWdohl64wHCbMVWAoUBacMuIxkAGfr9oMfwGiDVEZyBGmYJO2W3ajtchfhttJ9sXP/bZ9M+cE52aPL4eL7fT9QtTA8zBERNATAPvK4BpCSQsyYhx4sc2uh/IKJ1MQO6LtPFw/zF9ACcE4gnRPA44L52ept5UZby8ppL10at9vjIG4CyAIAU3AjiQ6JiASTEOspV//vOfSpCKwE604OKDBwDvAunJjWA+i6d0QQjaxFNvxYoVWh2MFgQBLMw7sSaPQBe8GDx1EN/AXBRinkoIaCLmYbwKHMumf1pJFoLU7ri4jRGNZ5XKoop8F8HTGQFcfHCjI9AHQwBiFZD7Goo5E9yNxiKbxhGzgSGAIFALct558+Zlc2pMGWsqJyDkmTVrlh3rQYwBnhq8Ay+uKcdKu3CCr4yBCVYhKIUPbjZjIEzfQXpizV+V1RmBKdCRRQsMAKL9CF6BsRkXCIwD3qAD72NBPFERlQcztFkBgJsKwZNw+vTpOtVBsAqGACsJMGzGCODCQmAKdeBCi45Yo45M/YvpbJoN9BOEKyA6gV4wRghqIidjJoGHAvwghtgFhDhYAYFhg7ufjYAnA4E+RPBhjHDD4dt4aOYdCFDJI/gKQhYnAtcfhhhEPWCuxlQherUi27owPjAE8FwwpcS44BvBX/z24prKVlc3y/kqZgDXHvNLPCng/oEqDUtF0QJmI6wyYL6HuRzKQwx3IZaFLGZlvfDhDcAggHYN0WKnRKapgMeNDIIQPNmgJ+bDENx8oLHHxW+YonChYXnNCG4Q3ATwbGAo4t8kzNS/VDol248lNsRMYFjBWGWMV7Ky0ftgDFAeH0zRIDAK2Aa22YphbcJNhpu1UqVKMmzYMNuTwooRlof37NmjeGFcnQoML5ZXceOCHj4vVG5W8FD7hrHAgwOGAL9NjMKLa8ppv10p75NAZtZqWE+aiOW+2eUtdiONBFuMz1nX4eeCYe+fn7HPdd18NU3IxtrhiYqnK6i/MSc20wS8qBQGcbt/mAdnegELAdyCmE6FYTxyqQ+BMwZYIYC7CZcX7j/mn+BIzGYuHISBdbt/cPfNC0mp8FiwYEGBBVtTtcH9/kOAvAn+GxNXNUIEHvTt6QSBWRPwTFeOx8KFAI1BuMaTvSECeUbAV6sJee4FTyQCRCDfCNAY5BtCVkAEwoEAjUE4xpG9IAL5RoDGIN8QsgIiEA4EaAzCMY7sBRHINwI0BvmGkBUQgXAgkPDSEd65pxABIlAwCOAfkUGRhPcM8FYfhQgQgYJBoGTJkgVTkQe1cJrgAchsgggEAQEagyCMEnUkAh4gQGPgAchsgggEAQEagyCMEnUkAh4gQGPgAchsgggEAQEagyCMEnUkAh4gQGPgAchsgggEAQEagyCMEnUkAh4gQGPgAchsgggEAYE8GQOLO08Za5GUFKnMe/bsaVNQudlp8CgglThScCN99U033WQz+Jp2synjpo6sO5wIvPHGG5pnE2nZkdIdRDlhk4T/JmTqIKi4kZ0YAoISUE+BJQdZfWfMmKHcAW7J4sWLlV8QRgBtgyzFIl4VvPJ5zTXXaLPZlHFLP9YbTgTAOwHiGPB3giMDrE29evWSV155RYlbwiKO/psAqi5w2oE8E/TeYML56quvlA4NVFqgHHNCP14QIMJDAQkG+PVSSTZlUp3L/UQAjEqgvnv22WdtMMB8deGFFyqtWzoJ7X8T8I9Gw6ILlwm59cEXCMMAMdyD6cAp6GMnTpxQLyGdZFMm3fk8lrsIgCMSDEvghoyWpk2bKmNXmMRRzAA0WEbOOuss+7ehrgZZ5bFjxzzDB9MScAneeuutKdvMpkzKk3kg5xEAVySmwuYaj77+DelrWEByZAxSdRrW02tBEHPw4MEydOhQnSYkk2zKJDuP+4hANgikonDP5lw/lnFkDCpXrmz34eDBgwm/QcvlBfkGAod9+vTR+ZoJHMaDm02Z+HO4TQTiEShdurSUKlXKpn43x3H9R3vH8ecFcduRMUDWlnPOOUf7CQouBBThKoFBF3LllVe6jsHrr7+ukV0EKlMZgmzKuK4oGwgFAnj6YzkxnsF61apV0qhRo1D00XTC0WoCTpo7d64u50HM0iKyI4GeHPPzatWquQbQzJkzBTTjWNbBuwZG4I2YJc1syrimICsOJQJYWuzWrZsuLeK6wz0ACvdslhaDtJrg2BhgtBcuXCjPPfecvmhUvHhxady4sViU6FK7dm1XL4Z77rkn6YrFZZddJpMnT9a2synjqpKsPJQI4KUjLC0iiI4HD673Vq1aZexr6I1BRgRYgAgQAUUgSMbAUcyA40sEiEB4EaAxCO/YsmdEwBECNAaO4GJhIhBeBGgMwju27BkRcIQAjYEjuFiYCIQXARqD8I4te0YEHCFAY+AILhYmAuFFgMYgvGPLnhEBRwjQGDiCi4WJQHgRoDEI79iyZ0TAEQIJ/01wdDYLEwEiEBoE6BmEZijZESKQPwRoDPKHH88mAqFBgMYgNEPJjhCB/CFAY5A//Hg2EQgNAjQGoRlKdoQI5A8BGoP84ceziUBoEKAxCM1QsiNEIH8I0BjkDz+eTQRCgwCNQWiGkh0hAvlDwLExWL16tdx9991KxV69enX9TJw4MX9aZHk2UlYj+zHarlu3rrRp00bAkRAt0M/oFf29adOmLFthMSKQiMCsWbM0G3KtWrXkuuuukyVLliQWCvgex5TsmzdvVgp23Ghec82BJalq1arKrQjOhvnz52suezDeYICiZfbs2ZrG3Qj0pRCBvCCwbNky6d27t7J4tWjRQpA2vXv37gID0aBBg7xU6ctzHP834euvv1Z6ajAw16lTRzsFhiM8sQtDOnTooNTYTz/9tDYPzwAU7DBa0JNCBPKLwO23367XErhCjLRr107AMDZs2LD8Vu+b8x1PE/BE9oJPMVuEQLdevnz5hOLNmzdXWqxOnToJCFgpRCAvCIBUGNTr8dSBzZo1kw8//DAvVfr2HMfGwE89mTZtmuzYsUM6d+5sqwXq7H79+sno0aNl/PjxUrNmTenatSsNgp8GLkC6pKNk379/f4B6kllVxzGDzFV6U2LRokXSv39/GTFihMYvjICeHQFOI02aNJG9e/dqkLN169beKMdWcgKBnKZk98sII3AIrrvhw4cnBA6T6XjJJZeoB0EhAk4RSEfJDi80TBK4aQJYlhHZHTlyZFaGAIO1Zs0aqVixYpjGjX3xCAE8/UG9vmLFipgWly9froTDYRLH04TFixfLwIEDBYEVI2Cnfemll6RevXoyZswY1/CZPn26rlxgObFKlSpi3h1AQNNQwSNWgCAnIr3ff/+9zJkzR7A09OSTT7qmFysONwJYKevSpYuMGzdOWrZsqe+2bNmyRQYNGhSqjjs2Bgio7Nq1KwaEQ4cOCT64Cd0UTA9ghLCMaJYS0R5eQkIwEVK2bFl58cUXZffu3fqeQY0aNZRKO/49BDf1ZN3hQgArU0899ZSMGjVKp6Z48OCaCtM7Bhgxx+8ZhGuY2RsiQAQMAoGLGXDoiAARcAcBGgN3cGWtRCBwCNAYBG7IqDARcAcBGgN3cGWtRCBwCNAYBG7IqDARcAcBGgN3cGWtRCBwCNAYBG7IqDARcAcBGgN3cGWtRCBwCNAYBG7IqDARcAcBGgN3cGWtRCBwCCT8N+G7774LXCeoMBHwKwIlS5b0q2oJetEzSICEO4hAbiJAY5Cb485eE4EEBGgMEiDhDiKQmwjQGOTmuLPXRCABARqDBEi4gwjkJgI0Brk57uw1EUhAgMYgARLuIAK5iQCNQW6OO3tNBBIQoDFIgIQ7iEBuIkBjkJvjzl4TgQQEEl5HTigRt2PKlCmydOlS2b59u6ZHB+kpGIt69OihvIZeybp16wTsuGC8Wblypd3s448/LuBXiJcyZcrI+++/H7+b20QgIwKrVq2SyZMny8aNG+XAgQMyZMgQufHGGzOeF7QCjo3B1KlT5bPPPpMzzjhDypUrJ/v27ZOFCxcKGGZAWFK5cmXXMQB3Q9++fQU8ihs2bIhpr1u3bkrJHi09e/aUq666ynW92EA4ETh+/LjUrl1bOnbsqLR+YRXHxqBNmzZy7bXXKjgQEJ9OmDBBjh49Ku+++27CjegGcAMGDFBmm7PPPjvBGMAYRRskUKvBYN18881uqMI6cwCBVq1aCT5hF8cxg169etmGAOCAzcgIXHa3Bd7H1q1bs7bQM2bMkFq1aknDhg3dVo31E4FAI+DYGET3FlyGkyZN0l3nn3++69Zz586dMnToUP2UKFEiI/BHjhyRt956i15BRqRYgAiI5NkYIHgIQkrECs4991wZP368lCpVyjVMT548KX369JHu3bsrqWo2Mm/ePPnxxx+lXbt22RRnGSKQ0wg4jhkArW3btsm9996rgUS43yCkxPzdTUFMYv369RrRRTQXAhJWfOrXr6/M0O3bt49R4bXXXlPCVZCxUogAEUiPgGNj8Pbbb+sTGjdn27ZtBcG8U089NX0rBXAU8QhQYUcLtmfOnClY7qxUqVLMMawybN68WR577LECaJ1VEIHwI+DYGPTv318NAWTRokX6MXLXXXcJAoxuSNGiRRPeY4A3UqxYsYT9aB9ewQUXXCCNGzd2Qx3WmUMI4HrftWuX3eM9e/bogwZL614spXsFdZ5jBlDwxIkTMR8EFP0gx44dk/nz58stt9ziB3WoQ8ARWLt2rXTq1Ek/kGeeeUZ/jx07NuA9i1W/iDXnjkTvYkLUUI0vO1PICDAhaiEPAJsnAkTAOQL5miY4b45nEAEi4FcEaAz8OjLUiwh4jACNgceAszki4FcEaAz8OjLUiwh4jACNgceAszki4FcEaAz8OjLUiwh4jACNgceAszki4FcEaAz8OjLUiwh4jACNgceAszki4FcEEl5H9qui1IsIEAF3EaBn4C6+rJ0IBAYBGoPADBUVJQLuIkBj4C6+rJ0IBAYBGoPADBUVJQLuIkBj4C6+rJ0IBAYBGoPADBUVJQLuIkBj4C6+rJ0IBAYBGoPADBUVJQLuIkBj4C6+rJ0IBAYBx8bg1VdfVTpq0LCDgv3yyy8XpEj/4IMPXO/06tWrpXr16gmfTZs22W2/9957yvQEDsi6desKiGLj+RZcV5QNhA6BWbNmKX0geDtBzLNkyZLQ9dExbwJuyO3bt0uFChWUqWj37t3yzjvvyMqVK5WaHZyLbsvs2bOlePHidjMwEEbArVi1alW59dZb5cwzz9SU6Q899JBSv2EQKUTAKQLLli2T3r17K3lQixYt5I033lCaPxiIBg0aOK3Ov+WRKt2JHD58OGLxF9qnTJs2LWKRlehn7ty5TqpyXNbyPrQdK527o3Mt2rWIZRAcncPCRMAgcNttt0Us7zcGEItNLPLggw+GCiTHnkGZMmXko48+UiKJ48ePK/chBKzIF198sSdWr3nz5tp2jRo1pEePHtK6deu07YLspXz58mnL8CARSIaAdbfLxx9/LA8//HDM4WbNmsmbb76Z7JTA7nNsDNDTAwcOCObmRs466ywZM2aMnHfeea4CgalJv3791Oj88MMP6q517dpVJkyYkNIgWJ6L7NixQ0aPHu2qbqw8nAh8++23+uDBtRctuOb3798frk7n1c/BVOHLL7+MPPHEE+q6N23aNGLFD/JaXZ7Pu/POOyNWfCDp+VYMI1KnTp2IFUdIepw7iUAmBDAtxvVtPXhiik6cODFiBagznR6o445XE4wpLFKkiNKwW/Mm3bV37155+eWXPbeUWNXAkz9eEDh84IEHZPjw4QwcxoPD7awRAPs3gs/whqPl4MGDCd5C1pX6tKAjYwB3adKkSXLkyBG7O7jpjIDw1GtZs2aNVKxYMaZZ0LQj+jty5EgaAq8HJGTt4aHXqFEjWbFiRUzPli9fHjqGb0cxA7Asg5IdnypVqigDs7GYp5xyinTo0MHVSwHzfiwXXnTRRQJd5syZI1j2efLJJ+12p0+fLo8++qguJ0JH8w7CaaedJtWqVXNVP1YeTgTw3kqXLl1k3Lhx0rJlS31vZcuWLTJo0KBQddhR2jPc/LjRsJqwb98+vSERpb/00kulW7du+iKSmzJ58mSZOnWqvtuA9wywmoAAYvT7A3fccUdMcNPog5eQEEykEIG8IIB3CkaNGiVffPGFPlQeeeSRlEHrvNTvh3McGQM/KEwdiAARcAcBRzEDd1RgrUSACPgBARoDP4wCdSACPkCAxsAHg0AViIAfEKAx8MMoUAci4AMEaAx8MAhUgQj4AQEaAz+MAnUgAj5AgMbAB4NAFYiAHxCgMfDDKFAHIuADBGgMfDAIVIEI+AEBGgM/jAJ1IAI+QCDhj0pWSjEfqEUViEA4EChZsmRgOkLPIDBDRUWJgLsI0Bi4iy9rJwKBQYDGIDBDRUWJgLsI0Bi4iy9rJwKBQYDGIDBDRUWJgLsI0Bi4iy9rJwKBQYDGIDBDRUWJgLsI0Bi4iy9rJwKBQYDGIDBDRUWJgLsI5MsYgJUWtOf44LeXsm7dOmnYsKFcccUVCc0iizO4IMHBCCq2a665RkAlTyECeUFg1apVyul59dVX67WOFP1hlITXkbPt5Lx58wSfwhDw3/Xt21eaNGkiGzZsSFABLE+ffPKJ3HfffZrW+tChQwlluIMIZIsAyINq164tHTt2VJausEqejMHnn3+uRCr169fXGw08Bl7KgAEDlMwC9G7xxgCkKmC/sejhXSeC9bLPbKvwEGjVqpXgE3ZxPE04efKkEkhYxKsydOhQAZOSlwIXbesV63/EAAACS0lEQVTWrSkt9JIlS6RevXo6LYDBuP7662XgwIECb4JCBIhAagQc38ljx44V8BviBvOarmznzp1qgF544QUpUaJE0l7BS4G3cPrpp8uIESPkm2++EXgSYMIBbTyFCBCB5Ag4Mgbr16+X8ePH69MW8ycvBR4JgpTdu3dXrsVUAo/FeC3lypXTYqCEQ/wABgH8ixQiQAQSEXBkDLZt26Y32tKlS20GWgRXIAsWLBC46AsXLnSFqvro0aMCY7Rx40YZMmSIthmJRPSD2AU8lfbt22scoUKFCmIMAcpVr15dy9MYKAwUIpAUAUfGwNSApbt4wZMbhgE3pxtSunRpZb+NFmyDfn3KlClSqVIlPQT6bBikw4cPS9myZXXfjh079Ltq1ar6TSECRCARAUfGAFOD+OnBDTfcIJ9++qm0bdtW5/NuSdGiRaVmzZox1cMLKFasWMz+du3a6VQGU4P7779fYwbQC9HgypUru6Ue6w0xAvBKd+3aZfdwz549snnzZvU+w3RNOV5N8PuYlylTRp5//nlB+rbOnTvb7yMMHjzY76pTP58isHbtWunUqZN+IHihDb8RTA+TJFCyMwdimIaXfSlsBJgDsbBHgO0TASLgGIHQTRMcI8ATiAARUARoDHghEAEiQGPAa4AIEIH/IUDPgFcDESAC9Ax4DRABIkDPgNcAESACcQhwmsBLgggQAUWAxoAXAhEgAjQGvAaIABH4HwL0DHg1EAEioAgk/DeBuBABIpCbCNAzyM1xZ6+JQAICNAYJkHAHEchNBP4PCbAXhMUvvKsAAAAASUVORK5CYII=)"
      ]
    },
    {
      "cell_type": "code",
      "metadata": {
        "colab": {
          "base_uri": "https://localhost:8080/",
          "height": 224
        },
        "id": "pDJ7y_80tioA",
        "outputId": "121df908-e7e4-4095-9026-e7cb89272d08"
      },
      "source": [
        "df = pd.read_csv(\"insurance_data.csv\")\n",
        "print('insurance_data.csv')\n",
        "df.head()\n"
      ],
      "execution_count": 4,
      "outputs": [
        {
          "output_type": "stream",
          "text": [
            "insurance_data.csv\n"
          ],
          "name": "stdout"
        },
        {
          "output_type": "execute_result",
          "data": {
            "text/html": [
              "<div>\n",
              "<style scoped>\n",
              "    .dataframe tbody tr th:only-of-type {\n",
              "        vertical-align: middle;\n",
              "    }\n",
              "\n",
              "    .dataframe tbody tr th {\n",
              "        vertical-align: top;\n",
              "    }\n",
              "\n",
              "    .dataframe thead th {\n",
              "        text-align: right;\n",
              "    }\n",
              "</style>\n",
              "<table border=\"1\" class=\"dataframe\">\n",
              "  <thead>\n",
              "    <tr style=\"text-align: right;\">\n",
              "      <th></th>\n",
              "      <th>age</th>\n",
              "      <th>bought_insurance</th>\n",
              "    </tr>\n",
              "  </thead>\n",
              "  <tbody>\n",
              "    <tr>\n",
              "      <th>0</th>\n",
              "      <td>22</td>\n",
              "      <td>0</td>\n",
              "    </tr>\n",
              "    <tr>\n",
              "      <th>1</th>\n",
              "      <td>25</td>\n",
              "      <td>0</td>\n",
              "    </tr>\n",
              "    <tr>\n",
              "      <th>2</th>\n",
              "      <td>47</td>\n",
              "      <td>1</td>\n",
              "    </tr>\n",
              "    <tr>\n",
              "      <th>3</th>\n",
              "      <td>52</td>\n",
              "      <td>0</td>\n",
              "    </tr>\n",
              "    <tr>\n",
              "      <th>4</th>\n",
              "      <td>46</td>\n",
              "      <td>1</td>\n",
              "    </tr>\n",
              "  </tbody>\n",
              "</table>\n",
              "</div>"
            ],
            "text/plain": [
              "   age  bought_insurance\n",
              "0   22                 0\n",
              "1   25                 0\n",
              "2   47                 1\n",
              "3   52                 0\n",
              "4   46                 1"
            ]
          },
          "metadata": {
            "tags": []
          },
          "execution_count": 4
        }
      ]
    },
    {
      "cell_type": "code",
      "metadata": {
        "colab": {
          "base_uri": "https://localhost:8080/",
          "height": 282
        },
        "id": "6CtjgEWKti6o",
        "outputId": "66a64e33-8f56-45f9-d4e2-445df20e8c02"
      },
      "source": [
        "plt.scatter(df.age,df.bought_insurance,marker='+',color='red')"
      ],
      "execution_count": 5,
      "outputs": [
        {
          "output_type": "execute_result",
          "data": {
            "text/plain": [
              "<matplotlib.collections.PathCollection at 0x7fb69001ecd0>"
            ]
          },
          "metadata": {
            "tags": []
          },
          "execution_count": 5
        },
        {
          "output_type": "display_data",
          "data": {
            "image/png": "[encoded data removed]",
            "text/plain": [
              "<Figure size 432x288 with 1 Axes>"
            ]
          },
          "metadata": {
            "tags": [],
            "needs_background": "light"
          }
        }
      ]
    },
    {
      "cell_type": "code",
      "metadata": {
        "id": "sChvHEw_tjK_"
      },
      "source": [
        "from sklearn.model_selection import train_test_split\n",
        "X_train, X_test, y_train, y_test = train_test_split(df[['age']],df.bought_insurance,train_size=0.8)"
      ],
      "execution_count": 7,
      "outputs": []
    },
    {
      "cell_type": "code",
      "metadata": {
        "colab": {
          "base_uri": "https://localhost:8080/",
          "height": 238
        },
        "id": "KsJh4S2QtjfD",
        "outputId": "b3d857cd-c40c-481f-ec42-feaa0022848b"
      },
      "source": [
        "X_test"
      ],
      "execution_count": 8,
      "outputs": [
        {
          "output_type": "execute_result",
          "data": {
            "text/html": [
              "<div>\n",
              "<style scoped>\n",
              "    .dataframe tbody tr th:only-of-type {\n",
              "        vertical-align: middle;\n",
              "    }\n",
              "\n",
              "    .dataframe tbody tr th {\n",
              "        vertical-align: top;\n",
              "    }\n",
              "\n",
              "    .dataframe thead th {\n",
              "        text-align: right;\n",
              "    }\n",
              "</style>\n",
              "<table border=\"1\" class=\"dataframe\">\n",
              "  <thead>\n",
              "    <tr style=\"text-align: right;\">\n",
              "      <th></th>\n",
              "      <th>age</th>\n",
              "    </tr>\n",
              "  </thead>\n",
              "  <tbody>\n",
              "    <tr>\n",
              "      <th>12</th>\n",
              "      <td>27</td>\n",
              "    </tr>\n",
              "    <tr>\n",
              "      <th>21</th>\n",
              "      <td>26</td>\n",
              "    </tr>\n",
              "    <tr>\n",
              "      <th>3</th>\n",
              "      <td>52</td>\n",
              "    </tr>\n",
              "    <tr>\n",
              "      <th>15</th>\n",
              "      <td>55</td>\n",
              "    </tr>\n",
              "    <tr>\n",
              "      <th>6</th>\n",
              "      <td>55</td>\n",
              "    </tr>\n",
              "    <tr>\n",
              "      <th>1</th>\n",
              "      <td>25</td>\n",
              "    </tr>\n",
              "  </tbody>\n",
              "</table>\n",
              "</div>"
            ],
            "text/plain": [
              "    age\n",
              "12   27\n",
              "21   26\n",
              "3    52\n",
              "15   55\n",
              "6    55\n",
              "1    25"
            ]
          },
          "metadata": {
            "tags": []
          },
          "execution_count": 8
        }
      ]
    },
    {
      "cell_type": "code",
      "metadata": {
        "id": "dujx35oFtjto"
      },
      "source": [
        "from sklearn.linear_model import LogisticRegression\n",
        "model = LogisticRegression()"
      ],
      "execution_count": 9,
      "outputs": []
    },
    {
      "cell_type": "code",
      "metadata": {
        "colab": {
          "base_uri": "https://localhost:8080/"
        },
        "id": "a83BNxdCtkFW",
        "outputId": "29612f08-c355-470c-e9aa-6f8f3054b1b5"
      },
      "source": [
        "model.fit(X_train, y_train)"
      ],
      "execution_count": 10,
      "outputs": [
        {
          "output_type": "execute_result",
          "data": {
            "text/plain": [
              "LogisticRegression(C=1.0, class_weight=None, dual=False, fit_intercept=True,\n",
              "                   intercept_scaling=1, l1_ratio=None, max_iter=100,\n",
              "                   multi_class='auto', n_jobs=None, penalty='l2',\n",
              "                   random_state=None, solver='lbfgs', tol=0.0001, verbose=0,\n",
              "                   warm_start=False)"
            ]
          },
          "metadata": {
            "tags": []
          },
          "execution_count": 10
        }
      ]
    },
    {
      "cell_type": "code",
      "metadata": {
        "id": "2_y7tWKJtkZa"
      },
      "source": [
        "y_predicted = model.predict(X_test)"
      ],
      "execution_count": 12,
      "outputs": []
    },
    {
      "cell_type": "code",
      "metadata": {
        "colab": {
          "base_uri": "https://localhost:8080/"
        },
        "id": "U1doqKL3uOxu",
        "outputId": "9fce2557-c275-404d-dd17-57ab3e3b51b7"
      },
      "source": [
        "model.predict_proba(X_test)"
      ],
      "execution_count": 13,
      "outputs": [
        {
          "output_type": "execute_result",
          "data": {
            "text/plain": [
              "array([[7.56626615e-01, 2.43373385e-01],\n",
              "       [8.08190533e-01, 1.91809467e-01],\n",
              "       [1.55258005e-03, 9.98447420e-01],\n",
              "       [6.24240651e-04, 9.99375759e-01],\n",
              "       [6.24240651e-04, 9.99375759e-01],\n",
              "       [8.50981202e-01, 1.49018798e-01]])"
            ]
          },
          "metadata": {
            "tags": []
          },
          "execution_count": 13
        }
      ]
    },
    {
      "cell_type": "code",
      "metadata": {
        "colab": {
          "base_uri": "https://localhost:8080/"
        },
        "id": "e1La9vIquPBF",
        "outputId": "90e6a68a-2494-4648-bf71-2c06b70c2516"
      },
      "source": [
        "model.score(X_test,y_test)"
      ],
      "execution_count": 14,
      "outputs": [
        {
          "output_type": "execute_result",
          "data": {
            "text/plain": [
              "0.6666666666666666"
            ]
          },
          "metadata": {
            "tags": []
          },
          "execution_count": 14
        }
      ]
    },
    {
      "cell_type": "code",
      "metadata": {
        "colab": {
          "base_uri": "https://localhost:8080/"
        },
        "id": "rUttZ7HauPUf",
        "outputId": "b896066c-259e-45a9-f5d8-6603f0b190e0"
      },
      "source": [
        "y_predicted"
      ],
      "execution_count": 15,
      "outputs": [
        {
          "output_type": "execute_result",
          "data": {
            "text/plain": [
              "array([0, 0, 1, 1, 1, 0])"
            ]
          },
          "metadata": {
            "tags": []
          },
          "execution_count": 15
        }
      ]
    },
    {
      "cell_type": "code",
      "metadata": {
        "colab": {
          "base_uri": "https://localhost:8080/",
          "height": 238
        },
        "id": "doOzEzwruPnu",
        "outputId": "e936cd7e-c8bf-4dcd-aa25-f5aeae6426d6"
      },
      "source": [
        "X_test"
      ],
      "execution_count": 16,
      "outputs": [
        {
          "output_type": "execute_result",
          "data": {
            "text/html": [
              "<div>\n",
              "<style scoped>\n",
              "    .dataframe tbody tr th:only-of-type {\n",
              "        vertical-align: middle;\n",
              "    }\n",
              "\n",
              "    .dataframe tbody tr th {\n",
              "        vertical-align: top;\n",
              "    }\n",
              "\n",
              "    .dataframe thead th {\n",
              "        text-align: right;\n",
              "    }\n",
              "</style>\n",
              "<table border=\"1\" class=\"dataframe\">\n",
              "  <thead>\n",
              "    <tr style=\"text-align: right;\">\n",
              "      <th></th>\n",
              "      <th>age</th>\n",
              "    </tr>\n",
              "  </thead>\n",
              "  <tbody>\n",
              "    <tr>\n",
              "      <th>12</th>\n",
              "      <td>27</td>\n",
              "    </tr>\n",
              "    <tr>\n",
              "      <th>21</th>\n",
              "      <td>26</td>\n",
              "    </tr>\n",
              "    <tr>\n",
              "      <th>3</th>\n",
              "      <td>52</td>\n",
              "    </tr>\n",
              "    <tr>\n",
              "      <th>15</th>\n",
              "      <td>55</td>\n",
              "    </tr>\n",
              "    <tr>\n",
              "      <th>6</th>\n",
              "      <td>55</td>\n",
              "    </tr>\n",
              "    <tr>\n",
              "      <th>1</th>\n",
              "      <td>25</td>\n",
              "    </tr>\n",
              "  </tbody>\n",
              "</table>\n",
              "</div>"
            ],
            "text/plain": [
              "    age\n",
              "12   27\n",
              "21   26\n",
              "3    52\n",
              "15   55\n",
              "6    55\n",
              "1    25"
            ]
          },
          "metadata": {
            "tags": []
          },
          "execution_count": 16
        }
      ]
    },
    {
      "cell_type": "code",
      "metadata": {
        "colab": {
          "base_uri": "https://localhost:8080/"
        },
        "id": "bh53NA8luhym",
        "outputId": "2a2202c9-6a06-4e33-e3b6-4069c10ba571"
      },
      "source": [
        "# model.coef_ indicates value of m in y=m*x + b equation\n",
        "model.coef_"
      ],
      "execution_count": 17,
      "outputs": [
        {
          "output_type": "execute_result",
          "data": {
            "text/plain": [
              "array([[0.30402226]])"
            ]
          },
          "metadata": {
            "tags": []
          },
          "execution_count": 17
        }
      ]
    },
    {
      "cell_type": "code",
      "metadata": {
        "colab": {
          "base_uri": "https://localhost:8080/"
        },
        "id": "DddNmcgeuiAN",
        "outputId": "79785941-d403-48f2-96b2-4083469d9931"
      },
      "source": [
        "# model.intercept_ indicates value of b in y=m*x + b equation\n",
        "model.intercept_"
      ],
      "execution_count": 18,
      "outputs": [
        {
          "output_type": "execute_result",
          "data": {
            "text/plain": [
              "array([-9.34287404])"
            ]
          },
          "metadata": {
            "tags": []
          },
          "execution_count": 18
        }
      ]
    },
    {
      "cell_type": "code",
      "metadata": {
        "id": "KzyrpiC4tkta"
      },
      "source": [
        "# Lets defined sigmoid function now and do the math with hand\n",
        "import math\n",
        "def sigmoid(x):\n",
        "  return 1 / (1 + math.exp(-x))"
      ],
      "execution_count": 19,
      "outputs": []
    },
    {
      "cell_type": "code",
      "metadata": {
        "id": "Gm1oCsnRuo_y"
      },
      "source": [
        "def prediction_function(age):\n",
        "  z = 0.042 * age - 1.53 # 0.04150133 ~ 0.042 and -1.52726963 ~ -1.53\n",
        "  y = sigmoid(z)\n",
        "  return y"
      ],
      "execution_count": 20,
      "outputs": []
    },
    {
      "cell_type": "code",
      "metadata": {
        "colab": {
          "base_uri": "https://localhost:8080/"
        },
        "id": "7lKDY_bLupf1",
        "outputId": "7a19ed20-7ec8-4270-fcda-6670fa75a8c0"
      },
      "source": [
        "age = 35\n",
        "prediction_function(age)"
      ],
      "execution_count": 21,
      "outputs": [
        {
          "output_type": "execute_result",
          "data": {
            "text/plain": [
              "0.4850044983805899"
            ]
          },
          "metadata": {
            "tags": []
          },
          "execution_count": 21
        }
      ]
    },
    {
      "cell_type": "markdown",
      "metadata": {
        "id": "KSl-o2WZvNaY"
      },
      "source": [
        "Exercise\n",
        "Download employee retention dataset from here: https://www.kaggle.com/giripujar/hr-analytics\n",
        "(https://www.kaggle.com/giripujar/hr-analytics).\n",
        "1. Now do some exploratory data analysis to figure out which variables have direct and clear\n",
        "impact on employee retention (i.e. whether they leave the company or continue to work)\n",
        "2. Plot bar charts showing impact of employee salaries on retention\n",
        "3. Plot bar charts showing corelation between department and employee retention\n",
        "4. Now build logistic regression model using variables that were narrowed down in step 1\n",
        "5. Measure the accuracy of the model"
      ]
    }
  ]
}