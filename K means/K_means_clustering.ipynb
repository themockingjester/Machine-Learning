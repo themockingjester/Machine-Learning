{
  "nbformat": 4,
  "nbformat_minor": 0,
  "metadata": {
    "colab": {
      "name": "K means clustering.ipynb",
      "provenance": [],
      "collapsed_sections": []
    },
    "kernelspec": {
      "name": "python3",
      "display_name": "Python 3"
    },
    "language_info": {
      "name": "python"
    }
  },
  "cells": [
    {
      "cell_type": "markdown",
      "metadata": {
        "id": "JvEwu5h-Jwsq"
      },
      "source": [
        "Clustering With K Means - Python Tutorial"
      ]
    },
    {
      "cell_type": "markdown",
      "metadata": {
        "id": "e1De1c6dN8nG"
      },
      "source": [
        "![image.png](data:image/png;base64,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)"
      ]
    },
    {
      "cell_type": "code",
      "metadata": {
        "id": "8O9_URAuJgn2"
      },
      "source": [
        "from sklearn.cluster import KMeans\n",
        "import pandas as pd\n",
        "from sklearn.preprocessing import MinMaxScaler\n",
        "from matplotlib import pyplot as plt\n",
        "%matplotlib inline"
      ],
      "execution_count": 1,
      "outputs": []
    },
    {
      "cell_type": "code",
      "metadata": {
        "colab": {
          "base_uri": "https://localhost:8080/",
          "height": 224
        },
        "id": "uLW3ZH5fJ21P",
        "outputId": "1817458e-9f71-4ed7-d717-f8f0fd25da28"
      },
      "source": [
        "df = pd.read_csv(\"income.csv\")\n",
        "print('income.csv')\n",
        "df.head()"
      ],
      "execution_count": 22,
      "outputs": [
        {
          "output_type": "stream",
          "text": [
            "income.csv\n"
          ],
          "name": "stdout"
        },
        {
          "output_type": "execute_result",
          "data": {
            "text/html": [
              "<div>\n",
              "<style scoped>\n",
              "    .dataframe tbody tr th:only-of-type {\n",
              "        vertical-align: middle;\n",
              "    }\n",
              "\n",
              "    .dataframe tbody tr th {\n",
              "        vertical-align: top;\n",
              "    }\n",
              "\n",
              "    .dataframe thead th {\n",
              "        text-align: right;\n",
              "    }\n",
              "</style>\n",
              "<table border=\"1\" class=\"dataframe\">\n",
              "  <thead>\n",
              "    <tr style=\"text-align: right;\">\n",
              "      <th></th>\n",
              "      <th>Name</th>\n",
              "      <th>Age</th>\n",
              "      <th>Income($)</th>\n",
              "    </tr>\n",
              "  </thead>\n",
              "  <tbody>\n",
              "    <tr>\n",
              "      <th>0</th>\n",
              "      <td>Rob</td>\n",
              "      <td>27</td>\n",
              "      <td>70000</td>\n",
              "    </tr>\n",
              "    <tr>\n",
              "      <th>1</th>\n",
              "      <td>Michael</td>\n",
              "      <td>29</td>\n",
              "      <td>90000</td>\n",
              "    </tr>\n",
              "    <tr>\n",
              "      <th>2</th>\n",
              "      <td>Mohan</td>\n",
              "      <td>29</td>\n",
              "      <td>61000</td>\n",
              "    </tr>\n",
              "    <tr>\n",
              "      <th>3</th>\n",
              "      <td>Ismail</td>\n",
              "      <td>28</td>\n",
              "      <td>60000</td>\n",
              "    </tr>\n",
              "    <tr>\n",
              "      <th>4</th>\n",
              "      <td>Kory</td>\n",
              "      <td>42</td>\n",
              "      <td>150000</td>\n",
              "    </tr>\n",
              "  </tbody>\n",
              "</table>\n",
              "</div>"
            ],
            "text/plain": [
              "      Name  Age  Income($)\n",
              "0      Rob   27      70000\n",
              "1  Michael   29      90000\n",
              "2    Mohan   29      61000\n",
              "3   Ismail   28      60000\n",
              "4     Kory   42     150000"
            ]
          },
          "metadata": {
            "tags": []
          },
          "execution_count": 22
        }
      ]
    },
    {
      "cell_type": "code",
      "metadata": {
        "colab": {
          "base_uri": "https://localhost:8080/",
          "height": 296
        },
        "id": "6iEILyEtJ2w6",
        "outputId": "3418bf3e-4e3b-46b6-8184-14e379d6b1a2"
      },
      "source": [
        "plt.scatter(df.Age,df['Income($)'])\n",
        "plt.xlabel('Age')\n",
        "plt.ylabel('Income($)')"
      ],
      "execution_count": 3,
      "outputs": [
        {
          "output_type": "execute_result",
          "data": {
            "text/plain": [
              "Text(0, 0.5, 'Income($)')"
            ]
          },
          "metadata": {
            "tags": []
          },
          "execution_count": 3
        },
        {
          "output_type": "display_data",
          "data": {
            "image/png": "[encoded data removed]",
            "text/plain": [
              "<Figure size 432x288 with 1 Axes>"
            ]
          },
          "metadata": {
            "tags": [],
            "needs_background": "light"
          }
        }
      ]
    },
    {
      "cell_type": "code",
      "metadata": {
        "colab": {
          "base_uri": "https://localhost:8080/"
        },
        "id": "bIvrNG0mJ2uv",
        "outputId": "20b8a85d-1568-4267-cd72-9b7ce4c49f61"
      },
      "source": [
        "km = KMeans(n_clusters=3)\n",
        "y_predicted = km.fit_predict(df[['Age','Income($)']])\n",
        "y_predicted"
      ],
      "execution_count": 4,
      "outputs": [
        {
          "output_type": "execute_result",
          "data": {
            "text/plain": [
              "array([2, 2, 0, 0, 1, 1, 1, 1, 1, 1, 1, 0, 0, 0, 0, 0, 0, 0, 0, 2, 2, 0],\n",
              "      dtype=int32)"
            ]
          },
          "metadata": {
            "tags": []
          },
          "execution_count": 4
        }
      ]
    },
    {
      "cell_type": "code",
      "metadata": {
        "colab": {
          "base_uri": "https://localhost:8080/",
          "height": 206
        },
        "id": "3aEMdYK-J2sH",
        "outputId": "6ee8402c-f9fb-4c39-8721-274d3fb50873"
      },
      "source": [
        "df['cluster']=y_predicted\n",
        "df.head()"
      ],
      "execution_count": 5,
      "outputs": [
        {
          "output_type": "execute_result",
          "data": {
            "text/html": [
              "<div>\n",
              "<style scoped>\n",
              "    .dataframe tbody tr th:only-of-type {\n",
              "        vertical-align: middle;\n",
              "    }\n",
              "\n",
              "    .dataframe tbody tr th {\n",
              "        vertical-align: top;\n",
              "    }\n",
              "\n",
              "    .dataframe thead th {\n",
              "        text-align: right;\n",
              "    }\n",
              "</style>\n",
              "<table border=\"1\" class=\"dataframe\">\n",
              "  <thead>\n",
              "    <tr style=\"text-align: right;\">\n",
              "      <th></th>\n",
              "      <th>Name</th>\n",
              "      <th>Age</th>\n",
              "      <th>Income($)</th>\n",
              "      <th>cluster</th>\n",
              "    </tr>\n",
              "  </thead>\n",
              "  <tbody>\n",
              "    <tr>\n",
              "      <th>0</th>\n",
              "      <td>Rob</td>\n",
              "      <td>27</td>\n",
              "      <td>70000</td>\n",
              "      <td>2</td>\n",
              "    </tr>\n",
              "    <tr>\n",
              "      <th>1</th>\n",
              "      <td>Michael</td>\n",
              "      <td>29</td>\n",
              "      <td>90000</td>\n",
              "      <td>2</td>\n",
              "    </tr>\n",
              "    <tr>\n",
              "      <th>2</th>\n",
              "      <td>Mohan</td>\n",
              "      <td>29</td>\n",
              "      <td>61000</td>\n",
              "      <td>0</td>\n",
              "    </tr>\n",
              "    <tr>\n",
              "      <th>3</th>\n",
              "      <td>Ismail</td>\n",
              "      <td>28</td>\n",
              "      <td>60000</td>\n",
              "      <td>0</td>\n",
              "    </tr>\n",
              "    <tr>\n",
              "      <th>4</th>\n",
              "      <td>Kory</td>\n",
              "      <td>42</td>\n",
              "      <td>150000</td>\n",
              "      <td>1</td>\n",
              "    </tr>\n",
              "  </tbody>\n",
              "</table>\n",
              "</div>"
            ],
            "text/plain": [
              "      Name  Age  Income($)  cluster\n",
              "0      Rob   27      70000        2\n",
              "1  Michael   29      90000        2\n",
              "2    Mohan   29      61000        0\n",
              "3   Ismail   28      60000        0\n",
              "4     Kory   42     150000        1"
            ]
          },
          "metadata": {
            "tags": []
          },
          "execution_count": 5
        }
      ]
    },
    {
      "cell_type": "code",
      "metadata": {
        "colab": {
          "base_uri": "https://localhost:8080/"
        },
        "id": "N0Y91p_-J2pz",
        "outputId": "2b9dde02-4d0d-4f98-c382-a92260158789"
      },
      "source": [
        "km.cluster_centers_"
      ],
      "execution_count": 6,
      "outputs": [
        {
          "output_type": "execute_result",
          "data": {
            "text/plain": [
              "array([[3.29090909e+01, 5.61363636e+04],\n",
              "       [3.82857143e+01, 1.50000000e+05],\n",
              "       [3.40000000e+01, 8.05000000e+04]])"
            ]
          },
          "metadata": {
            "tags": []
          },
          "execution_count": 6
        }
      ]
    },
    {
      "cell_type": "code",
      "metadata": {
        "colab": {
          "base_uri": "https://localhost:8080/",
          "height": 296
        },
        "id": "tgBDYDwnJ2nL",
        "outputId": "3e5790f4-af9c-4587-f071-2921d4bf8f0f"
      },
      "source": [
        "df1 = df[df.cluster==0]\n",
        "df2 = df[df.cluster==1]\n",
        "df3 = df[df.cluster==2]\n",
        "plt.scatter(df1.Age,df1['Income($)'],color='green')\n",
        "plt.scatter(df2.Age,df2['Income($)'],color='red')\n",
        "plt.scatter(df3.Age,df3['Income($)'],color='black')\n",
        "plt.scatter(km.cluster_centers_[:,0],km.cluster_centers_[:,1],color='purple',marker=\"*\",label=\"centroid\")\n",
        "plt.xlabel('Age')\n",
        "plt.ylabel('Income ($)')\n",
        "plt.legend()"
      ],
      "execution_count": 10,
      "outputs": [
        {
          "output_type": "execute_result",
          "data": {
            "text/plain": [
              "<matplotlib.legend.Legend at 0x7fb0c9d5d950>"
            ]
          },
          "metadata": {
            "tags": []
          },
          "execution_count": 10
        },
        {
          "output_type": "display_data",
          "data": {
            "image/png": "[encoded data removed]",
            "text/plain": [
              "<Figure size 432x288 with 1 Axes>"
            ]
          },
          "metadata": {
            "tags": [],
            "needs_background": "light"
          }
        }
      ]
    },
    {
      "cell_type": "code",
      "metadata": {
        "id": "hWuJMVZPJ2kV"
      },
      "source": [
        "scaler = MinMaxScaler()\n",
        "scaler.fit(df[['Income($)']])\n",
        "df['Income($)'] = scaler.transform(df[['Income($)']])\n",
        "scaler.fit(df[['Age']])\n",
        "df['Age'] = scaler.transform(df[['Age']])"
      ],
      "execution_count": 12,
      "outputs": []
    },
    {
      "cell_type": "code",
      "metadata": {
        "colab": {
          "base_uri": "https://localhost:8080/",
          "height": 206
        },
        "id": "NbKsF-CKJ2hx",
        "outputId": "40bd4a0e-87a1-43fa-fd9e-52777bcd6f9c"
      },
      "source": [
        "df.head()"
      ],
      "execution_count": 13,
      "outputs": [
        {
          "output_type": "execute_result",
          "data": {
            "text/html": [
              "<div>\n",
              "<style scoped>\n",
              "    .dataframe tbody tr th:only-of-type {\n",
              "        vertical-align: middle;\n",
              "    }\n",
              "\n",
              "    .dataframe tbody tr th {\n",
              "        vertical-align: top;\n",
              "    }\n",
              "\n",
              "    .dataframe thead th {\n",
              "        text-align: right;\n",
              "    }\n",
              "</style>\n",
              "<table border=\"1\" class=\"dataframe\">\n",
              "  <thead>\n",
              "    <tr style=\"text-align: right;\">\n",
              "      <th></th>\n",
              "      <th>Name</th>\n",
              "      <th>Age</th>\n",
              "      <th>Income($)</th>\n",
              "      <th>cluster</th>\n",
              "    </tr>\n",
              "  </thead>\n",
              "  <tbody>\n",
              "    <tr>\n",
              "      <th>0</th>\n",
              "      <td>Rob</td>\n",
              "      <td>0.058824</td>\n",
              "      <td>0.213675</td>\n",
              "      <td>2</td>\n",
              "    </tr>\n",
              "    <tr>\n",
              "      <th>1</th>\n",
              "      <td>Michael</td>\n",
              "      <td>0.176471</td>\n",
              "      <td>0.384615</td>\n",
              "      <td>2</td>\n",
              "    </tr>\n",
              "    <tr>\n",
              "      <th>2</th>\n",
              "      <td>Mohan</td>\n",
              "      <td>0.176471</td>\n",
              "      <td>0.136752</td>\n",
              "      <td>0</td>\n",
              "    </tr>\n",
              "    <tr>\n",
              "      <th>3</th>\n",
              "      <td>Ismail</td>\n",
              "      <td>0.117647</td>\n",
              "      <td>0.128205</td>\n",
              "      <td>0</td>\n",
              "    </tr>\n",
              "    <tr>\n",
              "      <th>4</th>\n",
              "      <td>Kory</td>\n",
              "      <td>0.941176</td>\n",
              "      <td>0.897436</td>\n",
              "      <td>1</td>\n",
              "    </tr>\n",
              "  </tbody>\n",
              "</table>\n",
              "</div>"
            ],
            "text/plain": [
              "      Name       Age  Income($)  cluster\n",
              "0      Rob  0.058824   0.213675        2\n",
              "1  Michael  0.176471   0.384615        2\n",
              "2    Mohan  0.176471   0.136752        0\n",
              "3   Ismail  0.117647   0.128205        0\n",
              "4     Kory  0.941176   0.897436        1"
            ]
          },
          "metadata": {
            "tags": []
          },
          "execution_count": 13
        }
      ]
    },
    {
      "cell_type": "code",
      "metadata": {
        "colab": {
          "base_uri": "https://localhost:8080/",
          "height": 282
        },
        "id": "I7UL0VS5J2fZ",
        "outputId": "9943db67-20e2-45cc-f7de-7f01283d55b6"
      },
      "source": [
        "plt.scatter(df.Age,df['Income($)'])"
      ],
      "execution_count": 14,
      "outputs": [
        {
          "output_type": "execute_result",
          "data": {
            "text/plain": [
              "<matplotlib.collections.PathCollection at 0x7fb0c9d5d210>"
            ]
          },
          "metadata": {
            "tags": []
          },
          "execution_count": 14
        },
        {
          "output_type": "display_data",
          "data": {
            "image/png": "[encoded data removed]",
            "text/plain": [
              "<Figure size 432x288 with 1 Axes>"
            ]
          },
          "metadata": {
            "tags": [],
            "needs_background": "light"
          }
        }
      ]
    },
    {
      "cell_type": "code",
      "metadata": {
        "colab": {
          "base_uri": "https://localhost:8080/"
        },
        "id": "-25ohe1rJ2c1",
        "outputId": "6a5f00ab-07c3-4f06-b766-171aa8d9c5ae"
      },
      "source": [
        "km = KMeans(n_clusters=3)\n",
        "y_predicted = km.fit_predict(df[['Age','Income($)']])\n",
        "y_predicted"
      ],
      "execution_count": 15,
      "outputs": [
        {
          "output_type": "execute_result",
          "data": {
            "text/plain": [
              "array([1, 1, 1, 1, 0, 0, 0, 0, 0, 0, 0, 1, 1, 1, 1, 1, 2, 2, 2, 2, 2, 2],\n",
              "      dtype=int32)"
            ]
          },
          "metadata": {
            "tags": []
          },
          "execution_count": 15
        }
      ]
    },
    {
      "cell_type": "code",
      "metadata": {
        "colab": {
          "base_uri": "https://localhost:8080/",
          "height": 206
        },
        "id": "7hAkcLN7J2aK",
        "outputId": "e0bfc2a0-8aa6-49c0-f049-01f5a5614367"
      },
      "source": [
        "df['cluster']=y_predicted\n",
        "df.head()"
      ],
      "execution_count": 16,
      "outputs": [
        {
          "output_type": "execute_result",
          "data": {
            "text/html": [
              "<div>\n",
              "<style scoped>\n",
              "    .dataframe tbody tr th:only-of-type {\n",
              "        vertical-align: middle;\n",
              "    }\n",
              "\n",
              "    .dataframe tbody tr th {\n",
              "        vertical-align: top;\n",
              "    }\n",
              "\n",
              "    .dataframe thead th {\n",
              "        text-align: right;\n",
              "    }\n",
              "</style>\n",
              "<table border=\"1\" class=\"dataframe\">\n",
              "  <thead>\n",
              "    <tr style=\"text-align: right;\">\n",
              "      <th></th>\n",
              "      <th>Name</th>\n",
              "      <th>Age</th>\n",
              "      <th>Income($)</th>\n",
              "      <th>cluster</th>\n",
              "    </tr>\n",
              "  </thead>\n",
              "  <tbody>\n",
              "    <tr>\n",
              "      <th>0</th>\n",
              "      <td>Rob</td>\n",
              "      <td>0.058824</td>\n",
              "      <td>0.213675</td>\n",
              "      <td>1</td>\n",
              "    </tr>\n",
              "    <tr>\n",
              "      <th>1</th>\n",
              "      <td>Michael</td>\n",
              "      <td>0.176471</td>\n",
              "      <td>0.384615</td>\n",
              "      <td>1</td>\n",
              "    </tr>\n",
              "    <tr>\n",
              "      <th>2</th>\n",
              "      <td>Mohan</td>\n",
              "      <td>0.176471</td>\n",
              "      <td>0.136752</td>\n",
              "      <td>1</td>\n",
              "    </tr>\n",
              "    <tr>\n",
              "      <th>3</th>\n",
              "      <td>Ismail</td>\n",
              "      <td>0.117647</td>\n",
              "      <td>0.128205</td>\n",
              "      <td>1</td>\n",
              "    </tr>\n",
              "    <tr>\n",
              "      <th>4</th>\n",
              "      <td>Kory</td>\n",
              "      <td>0.941176</td>\n",
              "      <td>0.897436</td>\n",
              "      <td>0</td>\n",
              "    </tr>\n",
              "  </tbody>\n",
              "</table>\n",
              "</div>"
            ],
            "text/plain": [
              "      Name       Age  Income($)  cluster\n",
              "0      Rob  0.058824   0.213675        1\n",
              "1  Michael  0.176471   0.384615        1\n",
              "2    Mohan  0.176471   0.136752        1\n",
              "3   Ismail  0.117647   0.128205        1\n",
              "4     Kory  0.941176   0.897436        0"
            ]
          },
          "metadata": {
            "tags": []
          },
          "execution_count": 16
        }
      ]
    },
    {
      "cell_type": "code",
      "metadata": {
        "colab": {
          "base_uri": "https://localhost:8080/"
        },
        "id": "QmfgTHrnLKdL",
        "outputId": "76c7c219-5a95-496d-c868-9542f5730db1"
      },
      "source": [
        "km.cluster_centers_"
      ],
      "execution_count": 17,
      "outputs": [
        {
          "output_type": "execute_result",
          "data": {
            "text/plain": [
              "array([[0.72268908, 0.8974359 ],\n",
              "       [0.1372549 , 0.11633428],\n",
              "       [0.85294118, 0.2022792 ]])"
            ]
          },
          "metadata": {
            "tags": []
          },
          "execution_count": 17
        }
      ]
    },
    {
      "cell_type": "code",
      "metadata": {
        "colab": {
          "base_uri": "https://localhost:8080/",
          "height": 282
        },
        "id": "PJaHN9AtLK6F",
        "outputId": "c895aa34-b200-418b-fc8e-637dabdc9823"
      },
      "source": [
        "df1 = df[df.cluster==0]\n",
        "df2 = df[df.cluster==1]\n",
        "df3 = df[df.cluster==2]\n",
        "plt.scatter(df1.Age,df1['Income($)'],color='green')\n",
        "plt.scatter(df2.Age,df2['Income($)'],color='red')\n",
        "plt.scatter(df3.Age,df3['Income($)'],color='black')\n",
        "plt.scatter(km.cluster_centers_[:,0],km.cluster_centers_[:,1],color='purple',marker=\"*\",label=\"centroid\")\n",
        "plt.legend()"
      ],
      "execution_count": 19,
      "outputs": [
        {
          "output_type": "execute_result",
          "data": {
            "text/plain": [
              "<matplotlib.legend.Legend at 0x7fb0c9c3edd0>"
            ]
          },
          "metadata": {
            "tags": []
          },
          "execution_count": 19
        },
        {
          "output_type": "display_data",
          "data": {
            "image/png": "[encoded data removed]",
            "text/plain": [
              "<Figure size 432x288 with 1 Axes>"
            ]
          },
          "metadata": {
            "tags": [],
            "needs_background": "light"
          }
        }
      ]
    },
    {
      "cell_type": "markdown",
      "metadata": {
        "id": "wxt-jBJtLXy4"
      },
      "source": [
        "Elbow Plot"
      ]
    },
    {
      "cell_type": "code",
      "metadata": {
        "id": "x5_MOfg1LTsc"
      },
      "source": [
        "sse = []\n",
        "k_rng = range(1,10)\n",
        "for k in k_rng:\n",
        "  km = KMeans(n_clusters=k)\n",
        "  km.fit(df[['Age','Income($)']])\n",
        "  sse.append(km.inertia_)"
      ],
      "execution_count": 20,
      "outputs": []
    },
    {
      "cell_type": "code",
      "metadata": {
        "colab": {
          "base_uri": "https://localhost:8080/",
          "height": 296
        },
        "id": "OUWnS9PjLTqj",
        "outputId": "cecf48e7-8af6-4c93-a24a-a1f995bd692e"
      },
      "source": [
        "plt.xlabel('K')\n",
        "plt.ylabel('Sum of squared error')\n",
        "plt.plot(k_rng,sse)"
      ],
      "execution_count": 21,
      "outputs": [
        {
          "output_type": "execute_result",
          "data": {
            "text/plain": [
              "[<matplotlib.lines.Line2D at 0x7fb0c13b8d10>]"
            ]
          },
          "metadata": {
            "tags": []
          },
          "execution_count": 21
        },
        {
          "output_type": "display_data",
          "data": {
            "image/png": "[encoded data removed]",
            "text/plain": [
              "<Figure size 432x288 with 1 Axes>"
            ]
          },
          "metadata": {
            "tags": [],
            "needs_background": "light"
          }
        }
      ]
    },
    {
      "cell_type": "code",
      "metadata": {
        "id": "wI9cBMdSLTov"
      },
      "source": [
        ""
      ],
      "execution_count": null,
      "outputs": []
    },
    {
      "cell_type": "code",
      "metadata": {
        "id": "FdloGyunLTmL"
      },
      "source": [
        ""
      ],
      "execution_count": null,
      "outputs": []
    },
    {
      "cell_type": "code",
      "metadata": {
        "id": "tqnRbIVcLTit"
      },
      "source": [
        ""
      ],
      "execution_count": null,
      "outputs": []
    },
    {
      "cell_type": "code",
      "metadata": {
        "id": "ScwDDZ4PLK8n"
      },
      "source": [
        ""
      ],
      "execution_count": null,
      "outputs": []
    },
    {
      "cell_type": "code",
      "metadata": {
        "id": "BvN2wq0aLK-z"
      },
      "source": [
        ""
      ],
      "execution_count": null,
      "outputs": []
    }
  ]
}